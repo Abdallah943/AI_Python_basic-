{
  "nbformat": 4,
  "nbformat_minor": 0,
  "metadata": {
    "colab": {
      "provenance": [],
      "authorship_tag": "ABX9TyPyUX2qPsxV4rAHG416Uraz",
      "include_colab_link": true
    },
    "kernelspec": {
      "name": "python3",
      "display_name": "Python 3"
    },
    "language_info": {
      "name": "python"
    }
  },
  "cells": [
    {
      "cell_type": "markdown",
      "metadata": {
        "id": "view-in-github",
        "colab_type": "text"
      },
      "source": [
        "<a href=\"https://colab.research.google.com/github/Abdallah943/AI_Python_basic-/blob/main/NumPy_Exercises.ipynb\" target=\"_parent\"><img src=\"https://colab.research.google.com/assets/colab-badge.svg\" alt=\"Open In Colab\"/></a>"
      ]
    },
    {
      "cell_type": "code",
      "source": [
        "import numpy as np\n",
        "\n",
        "# 1. Get NumPy Version & Build Info\n",
        "print(\"NumPy Version:\", np.__version__)\n",
        "np.show_config()\n",
        "\n",
        "\n"
      ],
      "metadata": {
        "colab": {
          "base_uri": "https://localhost:8080/"
        },
        "id": "_kQD6HX0jRQ9",
        "outputId": "02eba74c-a39e-4015-9872-07a1fc64ca83"
      },
      "execution_count": 55,
      "outputs": [
        {
          "output_type": "stream",
          "name": "stdout",
          "text": [
            "NumPy Version: 2.0.2\n",
            "Build Dependencies:\n",
            "  blas:\n",
            "    detection method: pkgconfig\n",
            "    found: true\n",
            "    include directory: /opt/_internal/cpython-3.11.8/lib/python3.11/site-packages/scipy_openblas64/include\n",
            "    lib directory: /opt/_internal/cpython-3.11.8/lib/python3.11/site-packages/scipy_openblas64/lib\n",
            "    name: scipy-openblas\n",
            "    openblas configuration: OpenBLAS 0.3.27  USE64BITINT DYNAMIC_ARCH NO_AFFINITY\n",
            "      Zen MAX_THREADS=64\n",
            "    pc file directory: /project/.openblas\n",
            "    version: 0.3.27\n",
            "  lapack:\n",
            "    detection method: pkgconfig\n",
            "    found: true\n",
            "    include directory: /opt/_internal/cpython-3.11.8/lib/python3.11/site-packages/scipy_openblas64/include\n",
            "    lib directory: /opt/_internal/cpython-3.11.8/lib/python3.11/site-packages/scipy_openblas64/lib\n",
            "    name: scipy-openblas\n",
            "    openblas configuration: OpenBLAS 0.3.27  USE64BITINT DYNAMIC_ARCH NO_AFFINITY\n",
            "      Zen MAX_THREADS=64\n",
            "    pc file directory: /project/.openblas\n",
            "    version: 0.3.27\n",
            "Compilers:\n",
            "  c:\n",
            "    commands: cc\n",
            "    linker: ld.bfd\n",
            "    name: gcc\n",
            "    version: 10.2.1\n",
            "  c++:\n",
            "    commands: c++\n",
            "    linker: ld.bfd\n",
            "    name: gcc\n",
            "    version: 10.2.1\n",
            "  cython:\n",
            "    commands: cython\n",
            "    linker: cython\n",
            "    name: cython\n",
            "    version: 3.0.11\n",
            "Machine Information:\n",
            "  build:\n",
            "    cpu: x86_64\n",
            "    endian: little\n",
            "    family: x86_64\n",
            "    system: linux\n",
            "  host:\n",
            "    cpu: x86_64\n",
            "    endian: little\n",
            "    family: x86_64\n",
            "    system: linux\n",
            "Python Information:\n",
            "  path: /tmp/build-env-zm_4loqi/bin/python\n",
            "  version: '3.11'\n",
            "SIMD Extensions:\n",
            "  baseline:\n",
            "  - SSE\n",
            "  - SSE2\n",
            "  - SSE3\n",
            "  found:\n",
            "  - SSSE3\n",
            "  - SSE41\n",
            "  - POPCNT\n",
            "  - SSE42\n",
            "  - AVX\n",
            "  - F16C\n",
            "  - FMA3\n",
            "  - AVX2\n",
            "  not found:\n",
            "  - AVX512F\n",
            "  - AVX512CD\n",
            "  - AVX512_KNL\n",
            "  - AVX512_KNM\n",
            "  - AVX512_SKX\n",
            "  - AVX512_CLX\n",
            "  - AVX512_CNL\n",
            "  - AVX512_ICL\n",
            "\n"
          ]
        }
      ]
    },
    {
      "cell_type": "code",
      "source": [
        "# 2. Help for NumPy Add Function\n",
        "help(np.add)\n",
        "\n"
      ],
      "metadata": {
        "colab": {
          "base_uri": "https://localhost:8080/"
        },
        "id": "kd-yx2vAjXAv",
        "outputId": "8f3229c4-dff7-4e29-91ef-94a391a27949"
      },
      "execution_count": 56,
      "outputs": [
        {
          "output_type": "stream",
          "name": "stdout",
          "text": [
            "Help on ufunc:\n",
            "\n",
            "add = <ufunc 'add'>\n",
            "    add(x1, x2, /, out=None, *, where=True, casting='same_kind', order='K', dtype=None, subok=True[, signature])\n",
            "    \n",
            "    Add arguments element-wise.\n",
            "    \n",
            "    Parameters\n",
            "    ----------\n",
            "    x1, x2 : array_like\n",
            "        The arrays to be added.\n",
            "        If ``x1.shape != x2.shape``, they must be broadcastable to a common\n",
            "        shape (which becomes the shape of the output).\n",
            "    out : ndarray, None, or tuple of ndarray and None, optional\n",
            "        A location into which the result is stored. If provided, it must have\n",
            "        a shape that the inputs broadcast to. If not provided or None,\n",
            "        a freshly-allocated array is returned. A tuple (possible only as a\n",
            "        keyword argument) must have length equal to the number of outputs.\n",
            "    where : array_like, optional\n",
            "        This condition is broadcast over the input. At locations where the\n",
            "        condition is True, the `out` array will be set to the ufunc result.\n",
            "        Elsewhere, the `out` array will retain its original value.\n",
            "        Note that if an uninitialized `out` array is created via the default\n",
            "        ``out=None``, locations within it where the condition is False will\n",
            "        remain uninitialized.\n",
            "    **kwargs\n",
            "        For other keyword-only arguments, see the\n",
            "        :ref:`ufunc docs <ufuncs.kwargs>`.\n",
            "    \n",
            "    Returns\n",
            "    -------\n",
            "    add : ndarray or scalar\n",
            "        The sum of `x1` and `x2`, element-wise.\n",
            "        This is a scalar if both `x1` and `x2` are scalars.\n",
            "    \n",
            "    Notes\n",
            "    -----\n",
            "    Equivalent to `x1` + `x2` in terms of array broadcasting.\n",
            "    \n",
            "    Examples\n",
            "    --------\n",
            "    >>> np.add(1.0, 4.0)\n",
            "    5.0\n",
            "    >>> x1 = np.arange(9.0).reshape((3, 3))\n",
            "    >>> x2 = np.arange(3.0)\n",
            "    >>> np.add(x1, x2)\n",
            "    array([[  0.,   2.,   4.],\n",
            "           [  3.,   5.,   7.],\n",
            "           [  6.,   8.,  10.]])\n",
            "    \n",
            "    The ``+`` operator can be used as a shorthand for ``np.add`` on ndarrays.\n",
            "    \n",
            "    >>> x1 = np.arange(9.0).reshape((3, 3))\n",
            "    >>> x2 = np.arange(3.0)\n",
            "    >>> x1 + x2\n",
            "    array([[ 0.,  2.,  4.],\n",
            "           [ 3.,  5.,  7.],\n",
            "           [ 6.,  8., 10.]])\n",
            "\n"
          ]
        }
      ]
    },
    {
      "cell_type": "code",
      "source": [
        "# 3. Test None are Zero\n",
        "x1 = np.array([1, 2, 3, 4, 5])\n",
        "print(\"None are zero:\", np.all(x1))\n"
      ],
      "metadata": {
        "colab": {
          "base_uri": "https://localhost:8080/"
        },
        "id": "HLVfpzkxjbBs",
        "outputId": "31691765-a7f3-43bd-e426-185096801f55"
      },
      "execution_count": 57,
      "outputs": [
        {
          "output_type": "stream",
          "name": "stdout",
          "text": [
            "None are zero: True\n"
          ]
        }
      ]
    },
    {
      "cell_type": "code",
      "source": [
        "# 4. Test Any Non-Zero\n",
        "x2 = np.array([0, 0, 3, 0])\n",
        "print(\"Any non-zero:\", np.any(x2))\n"
      ],
      "metadata": {
        "colab": {
          "base_uri": "https://localhost:8080/"
        },
        "id": "v7QL39pJjeAh",
        "outputId": "00bbab6a-b077-4f93-a3d6-20a94cd23a4d"
      },
      "execution_count": 58,
      "outputs": [
        {
          "output_type": "stream",
          "name": "stdout",
          "text": [
            "Any non-zero: True\n"
          ]
        }
      ]
    },
    {
      "cell_type": "code",
      "source": [
        "# 5. Test Finiteness of Elements\n",
        "x3 = np.array([1, np.nan, np.inf, -np.inf, 5])\n",
        "print(\"Finiteness test:\", np.isfinite(x3))\n"
      ],
      "metadata": {
        "colab": {
          "base_uri": "https://localhost:8080/"
        },
        "id": "hN6837jJjhoj",
        "outputId": "a69bc767-0b66-43d0-a099-b793a40c4342"
      },
      "execution_count": 59,
      "outputs": [
        {
          "output_type": "stream",
          "name": "stdout",
          "text": [
            "Finiteness test: [ True False False False  True]\n"
          ]
        }
      ]
    },
    {
      "cell_type": "code",
      "source": [
        "# 6. Test for Infinity\n",
        "x4 = np.array([1, np.inf, -np.inf, 5])\n",
        "print(\"Is Inf:\", np.isinf(x4))\n"
      ],
      "metadata": {
        "colab": {
          "base_uri": "https://localhost:8080/"
        },
        "id": "burA6E5mjlFA",
        "outputId": "c8928c2d-af6d-4f82-b0c4-9a89cc73ee13"
      },
      "execution_count": 60,
      "outputs": [
        {
          "output_type": "stream",
          "name": "stdout",
          "text": [
            "Is Inf: [False  True  True False]\n"
          ]
        }
      ]
    },
    {
      "cell_type": "code",
      "source": [
        "# 7. Test for NaN\n",
        "x5 = np.array([1, np.nan, 3])\n",
        "print(\"Is NaN:\", np.isnan(x5))\n",
        "\n"
      ],
      "metadata": {
        "colab": {
          "base_uri": "https://localhost:8080/"
        },
        "id": "yRdDCDNSjoqJ",
        "outputId": "2e72450d-cc5b-41c6-c6a6-3c33e69129c3"
      },
      "execution_count": 61,
      "outputs": [
        {
          "output_type": "stream",
          "name": "stdout",
          "text": [
            "Is NaN: [False  True False]\n"
          ]
        }
      ]
    },
    {
      "cell_type": "code",
      "source": [
        "# 8. Test for Complex/Real/Scalar\n",
        "x6 = np.array([1, 2+3j, 5])\n",
        "print(\"Is complex:\", np.iscomplex(x6))\n",
        "print(\"Is real:\", np.isreal(x6))\n",
        "print(\"Is scalar (5):\", np.isscalar(5))\n",
        "\n"
      ],
      "metadata": {
        "colab": {
          "base_uri": "https://localhost:8080/"
        },
        "id": "GzQXWVJijr7y",
        "outputId": "4ccc97fa-78f0-4919-cec4-5e0de89f2eb2"
      },
      "execution_count": 62,
      "outputs": [
        {
          "output_type": "stream",
          "name": "stdout",
          "text": [
            "Is complex: [False  True False]\n",
            "Is real: [ True False  True]\n",
            "Is scalar (5): True\n"
          ]
        }
      ]
    },
    {
      "cell_type": "code",
      "source": [
        "# 9. Test Element-Wise Tolerance Equality\n",
        "a1 = np.array([1.0, 2.01, 3.0])\n",
        "b1 = np.array([1.0, 2.0, 3.0001])\n",
        "print(\"Equal within tolerance:\", np.allclose(a1, b1, atol=0.01))\n",
        "\n"
      ],
      "metadata": {
        "colab": {
          "base_uri": "https://localhost:8080/"
        },
        "id": "xKcMEkJJjvb2",
        "outputId": "62cc0b76-e368-4b26-bedb-3ff560a2db28"
      },
      "execution_count": 63,
      "outputs": [
        {
          "output_type": "stream",
          "name": "stdout",
          "text": [
            "Equal within tolerance: True\n"
          ]
        }
      ]
    },
    {
      "cell_type": "code",
      "source": [
        "# 10. Element-Wise Comparison (Greater/Less)\n",
        "a2 = np.array([1, 2, 3])\n",
        "b2 = np.array([2, 2, 1])\n",
        "print(\"Greater:\", np.greater(a2, b2))\n",
        "print(\"Greater Equal:\", np.greater_equal(a2, b2))\n",
        "print(\"Less:\", np.less(a2, b2))\n",
        "print(\"Less Equal:\", np.less_equal(a2, b2))"
      ],
      "metadata": {
        "colab": {
          "base_uri": "https://localhost:8080/"
        },
        "id": "NGbbptECjyBh",
        "outputId": "a9b90e48-3e79-40d5-809b-de1658ff2d71"
      },
      "execution_count": 64,
      "outputs": [
        {
          "output_type": "stream",
          "name": "stdout",
          "text": [
            "Greater: [False False  True]\n",
            "Greater Equal: [False  True  True]\n",
            "Less: [ True False False]\n",
            "Less Equal: [ True  True False]\n"
          ]
        }
      ]
    },
    {
      "cell_type": "code",
      "source": [
        "# 11. Element-Wise Comparison (Equal/Tolerance)\n",
        "a = np.array([1.0, 2.0, 3.0])\n",
        "b = np.array([1.0, 2.01, 2.999])\n",
        "print(\"Equal:\", np.equal(a, b))\n",
        "print(\"Equal within tolerance:\", np.allclose(a, b, atol=0.01))\n",
        "\n"
      ],
      "metadata": {
        "colab": {
          "base_uri": "https://localhost:8080/"
        },
        "id": "jEEeOuGFkXuy",
        "outputId": "9ab5daff-2f9b-4e4a-d322-3f84fe4a377a"
      },
      "execution_count": 65,
      "outputs": [
        {
          "output_type": "stream",
          "name": "stdout",
          "text": [
            "Equal: [ True False False]\n",
            "Equal within tolerance: True\n"
          ]
        }
      ]
    },
    {
      "cell_type": "code",
      "source": [
        "# 12. Array Memory Size\n",
        "x = np.array([1, 7, 13, 105])\n",
        "print(\"Memory size in bytes:\", x.nbytes)\n",
        "\n"
      ],
      "metadata": {
        "colab": {
          "base_uri": "https://localhost:8080/"
        },
        "id": "rpAVx49VkX9K",
        "outputId": "ea282b6c-51e3-4dda-97b0-e54ea6137459"
      },
      "execution_count": 66,
      "outputs": [
        {
          "output_type": "stream",
          "name": "stdout",
          "text": [
            "Memory size in bytes: 32\n"
          ]
        }
      ]
    },
    {
      "cell_type": "code",
      "source": [
        "# 13. Create Array of Zeros, Ones, Fives\n",
        "zeros = np.zeros(10)\n",
        "ones = np.ones(10)\n",
        "fives = np.full(10, 5)\n",
        "print(\"Zeros:\", zeros)\n",
        "print(\"Ones:\", ones)\n",
        "print(\"Fives:\", fives)\n",
        "\n"
      ],
      "metadata": {
        "colab": {
          "base_uri": "https://localhost:8080/"
        },
        "id": "DrMlc3iekYCZ",
        "outputId": "3c4423c0-7bbf-4661-8804-202e97ac80eb"
      },
      "execution_count": 67,
      "outputs": [
        {
          "output_type": "stream",
          "name": "stdout",
          "text": [
            "Zeros: [0. 0. 0. 0. 0. 0. 0. 0. 0. 0.]\n",
            "Ones: [1. 1. 1. 1. 1. 1. 1. 1. 1. 1.]\n",
            "Fives: [5 5 5 5 5 5 5 5 5 5]\n"
          ]
        }
      ]
    },
    {
      "cell_type": "code",
      "source": [
        "# 14. Create Array of Integers 30 to 70\n",
        "arr_30_70 = np.arange(30, 71)\n",
        "print(\"Integers from 30 to 70:\", arr_30_70)\n",
        "\n"
      ],
      "metadata": {
        "colab": {
          "base_uri": "https://localhost:8080/"
        },
        "id": "c6OqwpfrkYHG",
        "outputId": "c1783417-f8f7-40d6-e3cc-f8856ae7778e"
      },
      "execution_count": 68,
      "outputs": [
        {
          "output_type": "stream",
          "name": "stdout",
          "text": [
            "Integers from 30 to 70: [30 31 32 33 34 35 36 37 38 39 40 41 42 43 44 45 46 47 48 49 50 51 52 53\n",
            " 54 55 56 57 58 59 60 61 62 63 64 65 66 67 68 69 70]\n"
          ]
        }
      ]
    },
    {
      "cell_type": "code",
      "source": [
        "# 15. Create Array of Even Integers 30 to 70\n",
        "even_30_70 = np.arange(30, 71, 2)\n",
        "print(\"Even integers from 30 to 70:\", even_30_70)\n",
        "\n"
      ],
      "metadata": {
        "colab": {
          "base_uri": "https://localhost:8080/"
        },
        "id": "O45FuC2akjBo",
        "outputId": "c4b497b1-9917-4c0c-9ecf-2fe668116d54"
      },
      "execution_count": 69,
      "outputs": [
        {
          "output_type": "stream",
          "name": "stdout",
          "text": [
            "Even integers from 30 to 70: [30 32 34 36 38 40 42 44 46 48 50 52 54 56 58 60 62 64 66 68 70]\n"
          ]
        }
      ]
    },
    {
      "cell_type": "code",
      "source": [
        "# 16. Create 3x3 Identity Matrix\n",
        "identity = np.eye(3)\n",
        "print(\"3x3 Identity matrix:\\n\", identity)\n",
        "\n"
      ],
      "metadata": {
        "colab": {
          "base_uri": "https://localhost:8080/"
        },
        "id": "kWGRuWbwkjHJ",
        "outputId": "3f6f4331-18d8-4b09-f977-f07a1a8e6c93"
      },
      "execution_count": 70,
      "outputs": [
        {
          "output_type": "stream",
          "name": "stdout",
          "text": [
            "3x3 Identity matrix:\n",
            " [[1. 0. 0.]\n",
            " [0. 1. 0.]\n",
            " [0. 0. 1.]]\n"
          ]
        }
      ]
    },
    {
      "cell_type": "code",
      "source": [
        "# 17. Generate Random Number [0,1]\n",
        "rand_num = np.random.rand()\n",
        "print(\"Random number between 0 and 1:\", rand_num)\n",
        "\n"
      ],
      "metadata": {
        "colab": {
          "base_uri": "https://localhost:8080/"
        },
        "id": "sCvSURc9kjLs",
        "outputId": "c751fa55-072e-4057-d7dc-f66a87f53f2f"
      },
      "execution_count": 71,
      "outputs": [
        {
          "output_type": "stream",
          "name": "stdout",
          "text": [
            "Random number between 0 and 1: 0.5981489489055838\n"
          ]
        }
      ]
    },
    {
      "cell_type": "code",
      "source": [
        "# 18. Generate Random Array from Standard Normal\n",
        "rand_normal = np.random.randn(15)\n",
        "print(\"Random values from standard normal:\", rand_normal)\n",
        "\n"
      ],
      "metadata": {
        "colab": {
          "base_uri": "https://localhost:8080/"
        },
        "id": "vcYzq-wrkjQE",
        "outputId": "1b2e1d74-ed71-4f05-d9f5-ae2e58a38909"
      },
      "execution_count": 72,
      "outputs": [
        {
          "output_type": "stream",
          "name": "stdout",
          "text": [
            "Random values from standard normal: [ 0.63013494 -0.21732497  1.32444168 -0.80754831  0.40906187 -0.41200087\n",
            "  0.47000391 -1.76006448  0.5882129   0.64756408  1.43489395 -0.32552844\n",
            " -0.28949717  0.1449321  -1.82870925]\n"
          ]
        }
      ]
    },
    {
      "cell_type": "code",
      "source": [
        "# 19. Vector 15-55 Without First/Last Values\n",
        "v = np.arange(15, 56)\n",
        "print(\"Values without first and last:\", v[1:-1])\n",
        "\n"
      ],
      "metadata": {
        "colab": {
          "base_uri": "https://localhost:8080/"
        },
        "id": "XZYiNTJRkq2m",
        "outputId": "02790fcd-326e-4ff0-c0e9-c139c1b3de53"
      },
      "execution_count": 73,
      "outputs": [
        {
          "output_type": "stream",
          "name": "stdout",
          "text": [
            "Values without first and last: [16 17 18 19 20 21 22 23 24 25 26 27 28 29 30 31 32 33 34 35 36 37 38 39\n",
            " 40 41 42 43 44 45 46 47 48 49 50 51 52 53 54]\n"
          ]
        }
      ]
    },
    {
      "cell_type": "code",
      "source": [
        "# 20. Create and Iterate 3x4 Array\n",
        "arr_3x4 = np.arange(12).reshape(3, 4)\n",
        "print(\"3x4 Array:\\n\", arr_3x4)\n",
        "print(\"Iterated values:\")\n",
        "for row in arr_3x4:\n",
        "    for val in row:\n",
        "        print(val, end=' ')\n",
        "print()\n",
        "\n"
      ],
      "metadata": {
        "colab": {
          "base_uri": "https://localhost:8080/"
        },
        "id": "cqgntJ6lkq8J",
        "outputId": "26ca1ef4-0e94-4734-d387-7fae1249e346"
      },
      "execution_count": 74,
      "outputs": [
        {
          "output_type": "stream",
          "name": "stdout",
          "text": [
            "3x4 Array:\n",
            " [[ 0  1  2  3]\n",
            " [ 4  5  6  7]\n",
            " [ 8  9 10 11]]\n",
            "Iterated values:\n",
            "0 1 2 3 4 5 6 7 8 9 10 11 \n"
          ]
        }
      ]
    },
    {
      "cell_type": "code",
      "source": [
        "# 21. Create Vector of Evenly Spaced Values\n",
        "even_vector = np.linspace(5, 50, 10)\n",
        "print(\"Evenly spaced vector:\", even_vector)\n",
        "\n"
      ],
      "metadata": {
        "colab": {
          "base_uri": "https://localhost:8080/"
        },
        "id": "ddYdNPqhkrBP",
        "outputId": "ce541726-b5a5-45ed-9c97-c00e46ac7faa"
      },
      "execution_count": 75,
      "outputs": [
        {
          "output_type": "stream",
          "name": "stdout",
          "text": [
            "Evenly spaced vector: [ 5. 10. 15. 20. 25. 30. 35. 40. 45. 50.]\n"
          ]
        }
      ]
    },
    {
      "cell_type": "code",
      "source": [
        "# 22. Change Sign of Range 9-15\n",
        "x = np.arange(21)\n",
        "x[(x >= 9) & (x <= 15)] *= -1\n",
        "print(\"Sign changed (9 to 15):\", x)\n",
        "\n"
      ],
      "metadata": {
        "colab": {
          "base_uri": "https://localhost:8080/"
        },
        "id": "RsIkvrYmkrFk",
        "outputId": "f186a4bf-c0a4-49c2-d26d-6b38b7b54383"
      },
      "execution_count": 76,
      "outputs": [
        {
          "output_type": "stream",
          "name": "stdout",
          "text": [
            "Sign changed (9 to 15): [  0   1   2   3   4   5   6   7   8  -9 -10 -11 -12 -13 -14 -15  16  17\n",
            "  18  19  20]\n"
          ]
        }
      ]
    },
    {
      "cell_type": "code",
      "source": [
        "# 23. Vector of Random Integers [0,10]\n",
        "rand_vec = np.random.randint(0, 11, 5)\n",
        "print(\"Random vector (0-10):\", rand_vec)\n",
        "\n"
      ],
      "metadata": {
        "colab": {
          "base_uri": "https://localhost:8080/"
        },
        "id": "fbK-Pzm-krJz",
        "outputId": "5415602e-5d89-4df7-993e-cd753ea74bb7"
      },
      "execution_count": 77,
      "outputs": [
        {
          "output_type": "stream",
          "name": "stdout",
          "text": [
            "Random vector (0-10): [ 0 10 10  0  3]\n"
          ]
        }
      ]
    },
    {
      "cell_type": "code",
      "source": [
        "# 24. Multiply Two Vectors\n",
        "v1 = np.array([1, 2, 3])\n",
        "v2 = np.array([4, 5, 6])\n",
        "print(\"Element-wise multiplication:\", v1 * v2)\n",
        "\n"
      ],
      "metadata": {
        "colab": {
          "base_uri": "https://localhost:8080/"
        },
        "id": "xOHYftamkrOu",
        "outputId": "d0b9700a-84b8-44c9-d492-54add35c076d"
      },
      "execution_count": 78,
      "outputs": [
        {
          "output_type": "stream",
          "name": "stdout",
          "text": [
            "Element-wise multiplication: [ 4 10 18]\n"
          ]
        }
      ]
    },
    {
      "cell_type": "code",
      "source": [
        "# 25. Create 3x4 Matrix (10 to 21)\n",
        "matrix_3x4 = np.arange(10, 22).reshape(3, 4)\n",
        "print(\"3x4 Matrix 10 to 21:\\n\", matrix_3x4)\n"
      ],
      "metadata": {
        "colab": {
          "base_uri": "https://localhost:8080/"
        },
        "id": "VO2afQBNk0fy",
        "outputId": "8e3513c7-062b-4d3c-e42e-207438fcbbb2"
      },
      "execution_count": 79,
      "outputs": [
        {
          "output_type": "stream",
          "name": "stdout",
          "text": [
            "3x4 Matrix 10 to 21:\n",
            " [[10 11 12 13]\n",
            " [14 15 16 17]\n",
            " [18 19 20 21]]\n"
          ]
        }
      ]
    },
    {
      "cell_type": "code",
      "source": [
        "# 26. Rows & Columns in Matrix\n",
        "rows, cols = matrix_3x4.shape\n",
        "print(\"Rows:\", rows, \"Columns:\", cols)\n",
        "\n"
      ],
      "metadata": {
        "colab": {
          "base_uri": "https://localhost:8080/"
        },
        "id": "ZpbV__VGk54H",
        "outputId": "ad2a2866-5aad-4c32-dfdf-b268869c9dec"
      },
      "execution_count": 80,
      "outputs": [
        {
          "output_type": "stream",
          "name": "stdout",
          "text": [
            "Rows: 3 Columns: 4\n"
          ]
        }
      ]
    },
    {
      "cell_type": "code",
      "source": [
        "# 27. Create 3x3 Identity Matrix\n",
        "identity_3x3 = np.identity(3)\n",
        "print(\"3x3 Identity:\\n\", identity_3x3)\n",
        "\n"
      ],
      "metadata": {
        "colab": {
          "base_uri": "https://localhost:8080/"
        },
        "id": "g21gx8Tnk59j",
        "outputId": "96782398-0757-41e5-ef13-9bdf33c9e8d8"
      },
      "execution_count": 81,
      "outputs": [
        {
          "output_type": "stream",
          "name": "stdout",
          "text": [
            "3x3 Identity:\n",
            " [[1. 0. 0.]\n",
            " [0. 1. 0.]\n",
            " [0. 0. 1.]]\n"
          ]
        }
      ]
    },
    {
      "cell_type": "code",
      "source": [
        "# 28. 10x10 Matrix Border 1, Inside 0\n",
        "border_matrix = np.ones((10, 10))\n",
        "border_matrix[1:-1, 1:-1] = 0\n",
        "print(\"10x10 Border matrix:\\n\", border_matrix)\n",
        "\n"
      ],
      "metadata": {
        "colab": {
          "base_uri": "https://localhost:8080/"
        },
        "id": "rTHTH1m2k6Cf",
        "outputId": "28b572c3-5bc2-40a0-f205-03873565b3a3"
      },
      "execution_count": 82,
      "outputs": [
        {
          "output_type": "stream",
          "name": "stdout",
          "text": [
            "10x10 Border matrix:\n",
            " [[1. 1. 1. 1. 1. 1. 1. 1. 1. 1.]\n",
            " [1. 0. 0. 0. 0. 0. 0. 0. 0. 1.]\n",
            " [1. 0. 0. 0. 0. 0. 0. 0. 0. 1.]\n",
            " [1. 0. 0. 0. 0. 0. 0. 0. 0. 1.]\n",
            " [1. 0. 0. 0. 0. 0. 0. 0. 0. 1.]\n",
            " [1. 0. 0. 0. 0. 0. 0. 0. 0. 1.]\n",
            " [1. 0. 0. 0. 0. 0. 0. 0. 0. 1.]\n",
            " [1. 0. 0. 0. 0. 0. 0. 0. 0. 1.]\n",
            " [1. 0. 0. 0. 0. 0. 0. 0. 0. 1.]\n",
            " [1. 1. 1. 1. 1. 1. 1. 1. 1. 1.]]\n"
          ]
        }
      ]
    },
    {
      "cell_type": "code",
      "source": [
        "# 29. Diagonal 5x5 Matrix (1-5)\n",
        "diag_matrix = np.diag(np.arange(1, 6))\n",
        "print(\"5x5 Diagonal matrix:\\n\", diag_matrix)\n",
        "\n"
      ],
      "metadata": {
        "colab": {
          "base_uri": "https://localhost:8080/"
        },
        "id": "Tqb1ABz9k6IJ",
        "outputId": "2c629391-e394-4e9a-ccbb-2716583d5e86"
      },
      "execution_count": 83,
      "outputs": [
        {
          "output_type": "stream",
          "name": "stdout",
          "text": [
            "5x5 Diagonal matrix:\n",
            " [[1 0 0 0 0]\n",
            " [0 2 0 0 0]\n",
            " [0 0 3 0 0]\n",
            " [0 0 0 4 0]\n",
            " [0 0 0 0 5]]\n"
          ]
        }
      ]
    },
    {
      "cell_type": "code",
      "source": [
        "# 30. Staggered 4x4 Matrix (0,1)\n",
        "staggered = np.indices((4,4)).sum(axis=0) % 2\n",
        "np.fill_diagonal(staggered, 0)\n",
        "print(\"Staggered 0-1 matrix:\\n\", staggered)\n",
        "\n"
      ],
      "metadata": {
        "colab": {
          "base_uri": "https://localhost:8080/"
        },
        "id": "GtJ9-EyEk6Nk",
        "outputId": "9a3a398f-9c0c-483e-813c-de99139a016c"
      },
      "execution_count": 84,
      "outputs": [
        {
          "output_type": "stream",
          "name": "stdout",
          "text": [
            "Staggered 0-1 matrix:\n",
            " [[0 1 0 1]\n",
            " [1 0 1 0]\n",
            " [0 1 0 1]\n",
            " [1 0 1 0]]\n"
          ]
        }
      ]
    },
    {
      "cell_type": "code",
      "source": [
        "# 31. Create 3x3x3 Array of Values\n",
        "arr_3x3x3 = np.random.rand(3,3,3)\n",
        "print(\"3x3x3 Array:\\n\", arr_3x3x3)\n",
        "\n"
      ],
      "metadata": {
        "colab": {
          "base_uri": "https://localhost:8080/"
        },
        "id": "dq2D5ETGk6Rw",
        "outputId": "c8ebcf65-308f-4aa5-a0b5-f71c428f88f3"
      },
      "execution_count": 85,
      "outputs": [
        {
          "output_type": "stream",
          "name": "stdout",
          "text": [
            "3x3x3 Array:\n",
            " [[[0.5054789  0.01607969 0.70930669]\n",
            "  [0.74974295 0.19410347 0.70334523]\n",
            "  [0.92890486 0.99957746 0.58678585]]\n",
            "\n",
            " [[0.40799052 0.46330035 0.84333951]\n",
            "  [0.29113497 0.99961201 0.72316785]\n",
            "  [0.00401906 0.96692994 0.30045033]]\n",
            "\n",
            " [[0.59248079 0.48577105 0.29573981]\n",
            "  [0.57124604 0.80604566 0.04624496]\n",
            "  [0.70728084 0.10418999 0.48233244]]]\n"
          ]
        }
      ]
    },
    {
      "cell_type": "code",
      "source": [
        "# 32. Compute Sums (All, Row, Column)\n",
        "a = np.array([[1,2],[3,4]])\n",
        "print(\"Sum of all elements:\", a.sum())\n",
        "print(\"Sum of each column:\", a.sum(axis=0))\n",
        "print(\"Sum of each row:\", a.sum(axis=1))\n",
        "\n"
      ],
      "metadata": {
        "colab": {
          "base_uri": "https://localhost:8080/"
        },
        "id": "EmbUthqgk6Wa",
        "outputId": "c05e5a09-01c5-4ccc-a5bc-a7a726ddcfe1"
      },
      "execution_count": 86,
      "outputs": [
        {
          "output_type": "stream",
          "name": "stdout",
          "text": [
            "Sum of all elements: 10\n",
            "Sum of each column: [4 6]\n",
            "Sum of each row: [3 7]\n"
          ]
        }
      ]
    },
    {
      "cell_type": "code",
      "source": [
        "# 33. Compute Inner Product of Vectors\n",
        "x = np.array([1, 2])\n",
        "y = np.array([3, 4])\n",
        "print(\"Inner product:\", np.inner(x, y))\n",
        "\n"
      ],
      "metadata": {
        "colab": {
          "base_uri": "https://localhost:8080/"
        },
        "id": "15A-8ogJk6bR",
        "outputId": "505b4837-e272-472d-f2a1-2befec52ae50"
      },
      "execution_count": 87,
      "outputs": [
        {
          "output_type": "stream",
          "name": "stdout",
          "text": [
            "Inner product: 11\n"
          ]
        }
      ]
    },
    {
      "cell_type": "code",
      "source": [
        "# 34. Add Vector to Matrix Rows\n",
        "matrix = np.array([[1,2],[3,4],[5,6]])\n",
        "vec = np.array([1,1])\n",
        "print(\"Matrix + vector:\\n\", matrix + vec)\n",
        "\n"
      ],
      "metadata": {
        "colab": {
          "base_uri": "https://localhost:8080/"
        },
        "id": "woCXxsjmlOQW",
        "outputId": "8b29ce53-4f23-4599-ff9f-c4b01840e5a3"
      },
      "execution_count": 88,
      "outputs": [
        {
          "output_type": "stream",
          "name": "stdout",
          "text": [
            "Matrix + vector:\n",
            " [[2 3]\n",
            " [4 5]\n",
            " [6 7]]\n"
          ]
        }
      ]
    },
    {
      "cell_type": "code",
      "source": [
        "# 35. Save Array to Binary File\n",
        "arr = np.array([1, 2, 3, 4])\n",
        "arr.tofile('array_data.bin')\n",
        "print(\"Saved to binary file.\")\n",
        "\n"
      ],
      "metadata": {
        "colab": {
          "base_uri": "https://localhost:8080/"
        },
        "id": "I5tDUfIdlOV1",
        "outputId": "684d55bd-44e4-4d7b-ae89-b8c33fc2fc88"
      },
      "execution_count": 89,
      "outputs": [
        {
          "output_type": "stream",
          "name": "stdout",
          "text": [
            "Saved to binary file.\n"
          ]
        }
      ]
    },
    {
      "cell_type": "code",
      "source": [
        "# 36. Save Array and Load from Binary File\n",
        "arr.tofile('array2.bin')\n",
        "loaded = np.fromfile('array2.bin', dtype=int)\n",
        "print(\"Loaded array from binary:\", loaded)\n",
        "\n"
      ],
      "metadata": {
        "colab": {
          "base_uri": "https://localhost:8080/"
        },
        "id": "RqzImqorlOa8",
        "outputId": "b3325118-b069-4ec7-cb35-93a62d07ba33"
      },
      "execution_count": 90,
      "outputs": [
        {
          "output_type": "stream",
          "name": "stdout",
          "text": [
            "Loaded array from binary: [1 2 3 4]\n"
          ]
        }
      ]
    },
    {
      "cell_type": "code",
      "source": [
        "# 37. Save and Load Array from Text File\n",
        "np.savetxt(\"array.txt\", arr, fmt='%d')\n",
        "arr_loaded = np.loadtxt(\"array.txt\", dtype=int)\n",
        "print(\"Loaded from text file:\", arr_loaded)\n",
        "\n"
      ],
      "metadata": {
        "colab": {
          "base_uri": "https://localhost:8080/"
        },
        "id": "5nwMjsaGlOfs",
        "outputId": "03336035-1af5-4769-b02d-e9cf6abf3b30"
      },
      "execution_count": 91,
      "outputs": [
        {
          "output_type": "stream",
          "name": "stdout",
          "text": [
            "Loaded from text file: [1 2 3 4]\n"
          ]
        }
      ]
    },
    {
      "cell_type": "code",
      "source": [
        "# 38. Convert Array to Bytes and Back\n",
        "arr_bytes = arr.tobytes()\n",
        "arr_from_bytes = np.frombuffer(arr_bytes, dtype=int)\n",
        "print(\"Array from bytes:\", arr_from_bytes)\n",
        "\n"
      ],
      "metadata": {
        "colab": {
          "base_uri": "https://localhost:8080/"
        },
        "id": "7RAk2CHAlOkE",
        "outputId": "85c761b5-8883-4c90-b43e-eece788b4d92"
      },
      "execution_count": 92,
      "outputs": [
        {
          "output_type": "stream",
          "name": "stdout",
          "text": [
            "Array from bytes: [1 2 3 4]\n"
          ]
        }
      ]
    },
    {
      "cell_type": "code",
      "source": [
        "# 39. List to Array to List Comparison\n",
        "lst = [1, 2, 3, 4]\n",
        "arr = np.array(lst)\n",
        "lst_back = arr.tolist()\n",
        "print(\"Lists are equal:\", lst == lst_back)\n",
        "\n"
      ],
      "metadata": {
        "colab": {
          "base_uri": "https://localhost:8080/"
        },
        "id": "7O3DNE7IlOof",
        "outputId": "522833d4-db5c-44ca-adf5-2a28394fa554"
      },
      "execution_count": 93,
      "outputs": [
        {
          "output_type": "stream",
          "name": "stdout",
          "text": [
            "Lists are equal: True\n"
          ]
        }
      ]
    },
    {
      "cell_type": "code",
      "source": [
        "# 40. Sine Curve Coordinates with Plot\n",
        "import matplotlib.pyplot as plt\n",
        "x = np.linspace(0, 2*np.pi, 100)\n",
        "y = np.sin(x)\n",
        "plt.plot(x, y)\n",
        "plt.title(\"Sine Curve\")\n",
        "plt.show()\n",
        "\n"
      ],
      "metadata": {
        "colab": {
          "base_uri": "https://localhost:8080/",
          "height": 452
        },
        "id": "VmBJz41slOr8",
        "outputId": "81b18b02-5717-4d2a-c8f6-482b4b7053d3"
      },
      "execution_count": 94,
      "outputs": [
        {
          "output_type": "display_data",
          "data": {
            "text/plain": [
              "<Figure size 640x480 with 1 Axes>"
            ],
            "image/png": "[encoded data removed]"
          },
          "metadata": {}
        }
      ]
    },
    {
      "cell_type": "code",
      "source": [
        "# 41. Convert NumPy Dtypes to Python Types\n",
        "x = np.float32(1.5)\n",
        "print(\"Python type:\", type(x.item()))\n",
        "\n"
      ],
      "metadata": {
        "colab": {
          "base_uri": "https://localhost:8080/"
        },
        "id": "YF6CMf5LlPEz",
        "outputId": "250b7354-c13b-4c8b-8005-7cc8f2558667"
      },
      "execution_count": 95,
      "outputs": [
        {
          "output_type": "stream",
          "name": "stdout",
          "text": [
            "Python type: <class 'float'>\n"
          ]
        }
      ]
    },
    {
      "cell_type": "code",
      "source": [
        "# 42. Add Elements Conditionally\n",
        "x = np.array([[1, 0, 3], [4, 0, 6]])\n",
        "y = np.array([[7, 8, 9], [10, 11, 12]])\n",
        "mask = x != 0\n",
        "result = x + (y * mask)\n",
        "print(\"Conditional add:\\n\", result)\n",
        "\n"
      ],
      "metadata": {
        "colab": {
          "base_uri": "https://localhost:8080/"
        },
        "id": "f8jl3BMwlPJ-",
        "outputId": "7f935ab4-2739-44c0-e53d-3ad2f316b53c"
      },
      "execution_count": 96,
      "outputs": [
        {
          "output_type": "stream",
          "name": "stdout",
          "text": [
            "Conditional add:\n",
            " [[ 8  0 12]\n",
            " [14  0 18]]\n"
          ]
        }
      ]
    },
    {
      "cell_type": "code",
      "source": [
        "# 43. Find Missing Data in Array\n",
        "x = np.array([1, np.nan, 2, np.nan, 3])\n",
        "print(\"Missing data (NaNs):\", np.isnan(x))\n",
        "\n"
      ],
      "metadata": {
        "colab": {
          "base_uri": "https://localhost:8080/"
        },
        "id": "dlTWDqUalpqB",
        "outputId": "2a9cf7f5-dbea-4462-8f7d-3a55a31e5c44"
      },
      "execution_count": 97,
      "outputs": [
        {
          "output_type": "stream",
          "name": "stdout",
          "text": [
            "Missing data (NaNs): [False  True False  True False]\n"
          ]
        }
      ]
    },
    {
      "cell_type": "code",
      "source": [
        "# 44. Compare Two Arrays (Element-Wise)\n",
        "a = np.array([1, 2, 3])\n",
        "b = np.array([1, 2, 4])\n",
        "print(\"Arrays equal:\", np.array_equal(a, b))\n",
        "\n"
      ],
      "metadata": {
        "colab": {
          "base_uri": "https://localhost:8080/"
        },
        "id": "rpT_f3pllpwF",
        "outputId": "5b3e88f1-d4ec-4b75-e2cb-b7f32de43c10"
      },
      "execution_count": 98,
      "outputs": [
        {
          "output_type": "stream",
          "name": "stdout",
          "text": [
            "Arrays equal: False\n"
          ]
        }
      ]
    },
    {
      "cell_type": "code",
      "source": [
        "# 45. Create 1D Array of Digits\n",
        "arr = np.arange(1, 1000)\n",
        "print(\"Digits 1-999:\", arr)\n",
        "\n"
      ],
      "metadata": {
        "colab": {
          "base_uri": "https://localhost:8080/"
        },
        "id": "OS4pmd_Plp0u",
        "outputId": "4c214753-a6b7-41f3-814d-5c98109a436c"
      },
      "execution_count": 99,
      "outputs": [
        {
          "output_type": "stream",
          "name": "stdout",
          "text": [
            "Digits 1-999: [  1   2   3   4   5   6   7   8   9  10  11  12  13  14  15  16  17  18\n",
            "  19  20  21  22  23  24  25  26  27  28  29  30  31  32  33  34  35  36\n",
            "  37  38  39  40  41  42  43  44  45  46  47  48  49  50  51  52  53  54\n",
            "  55  56  57  58  59  60  61  62  63  64  65  66  67  68  69  70  71  72\n",
            "  73  74  75  76  77  78  79  80  81  82  83  84  85  86  87  88  89  90\n",
            "  91  92  93  94  95  96  97  98  99 100 101 102 103 104 105 106 107 108\n",
            " 109 110 111 112 113 114 115 116 117 118 119 120 121 122 123 124 125 126\n",
            " 127 128 129 130 131 132 133 134 135 136 137 138 139 140 141 142 143 144\n",
            " 145 146 147 148 149 150 151 152 153 154 155 156 157 158 159 160 161 162\n",
            " 163 164 165 166 167 168 169 170 171 172 173 174 175 176 177 178 179 180\n",
            " 181 182 183 184 185 186 187 188 189 190 191 192 193 194 195 196 197 198\n",
            " 199 200 201 202 203 204 205 206 207 208 209 210 211 212 213 214 215 216\n",
            " 217 218 219 220 221 222 223 224 225 226 227 228 229 230 231 232 233 234\n",
            " 235 236 237 238 239 240 241 242 243 244 245 246 247 248 249 250 251 252\n",
            " 253 254 255 256 257 258 259 260 261 262 263 264 265 266 267 268 269 270\n",
            " 271 272 273 274 275 276 277 278 279 280 281 282 283 284 285 286 287 288\n",
            " 289 290 291 292 293 294 295 296 297 298 299 300 301 302 303 304 305 306\n",
            " 307 308 309 310 311 312 313 314 315 316 317 318 319 320 321 322 323 324\n",
            " 325 326 327 328 329 330 331 332 333 334 335 336 337 338 339 340 341 342\n",
            " 343 344 345 346 347 348 349 350 351 352 353 354 355 356 357 358 359 360\n",
            " 361 362 363 364 365 366 367 368 369 370 371 372 373 374 375 376 377 378\n",
            " 379 380 381 382 383 384 385 386 387 388 389 390 391 392 393 394 395 396\n",
            " 397 398 399 400 401 402 403 404 405 406 407 408 409 410 411 412 413 414\n",
            " 415 416 417 418 419 420 421 422 423 424 425 426 427 428 429 430 431 432\n",
            " 433 434 435 436 437 438 439 440 441 442 443 444 445 446 447 448 449 450\n",
            " 451 452 453 454 455 456 457 458 459 460 461 462 463 464 465 466 467 468\n",
            " 469 470 471 472 473 474 475 476 477 478 479 480 481 482 483 484 485 486\n",
            " 487 488 489 490 491 492 493 494 495 496 497 498 499 500 501 502 503 504\n",
            " 505 506 507 508 509 510 511 512 513 514 515 516 517 518 519 520 521 522\n",
            " 523 524 525 526 527 528 529 530 531 532 533 534 535 536 537 538 539 540\n",
            " 541 542 543 544 545 546 547 548 549 550 551 552 553 554 555 556 557 558\n",
            " 559 560 561 562 563 564 565 566 567 568 569 570 571 572 573 574 575 576\n",
            " 577 578 579 580 581 582 583 584 585 586 587 588 589 590 591 592 593 594\n",
            " 595 596 597 598 599 600 601 602 603 604 605 606 607 608 609 610 611 612\n",
            " 613 614 615 616 617 618 619 620 621 622 623 624 625 626 627 628 629 630\n",
            " 631 632 633 634 635 636 637 638 639 640 641 642 643 644 645 646 647 648\n",
            " 649 650 651 652 653 654 655 656 657 658 659 660 661 662 663 664 665 666\n",
            " 667 668 669 670 671 672 673 674 675 676 677 678 679 680 681 682 683 684\n",
            " 685 686 687 688 689 690 691 692 693 694 695 696 697 698 699 700 701 702\n",
            " 703 704 705 706 707 708 709 710 711 712 713 714 715 716 717 718 719 720\n",
            " 721 722 723 724 725 726 727 728 729 730 731 732 733 734 735 736 737 738\n",
            " 739 740 741 742 743 744 745 746 747 748 749 750 751 752 753 754 755 756\n",
            " 757 758 759 760 761 762 763 764 765 766 767 768 769 770 771 772 773 774\n",
            " 775 776 777 778 779 780 781 782 783 784 785 786 787 788 789 790 791 792\n",
            " 793 794 795 796 797 798 799 800 801 802 803 804 805 806 807 808 809 810\n",
            " 811 812 813 814 815 816 817 818 819 820 821 822 823 824 825 826 827 828\n",
            " 829 830 831 832 833 834 835 836 837 838 839 840 841 842 843 844 845 846\n",
            " 847 848 849 850 851 852 853 854 855 856 857 858 859 860 861 862 863 864\n",
            " 865 866 867 868 869 870 871 872 873 874 875 876 877 878 879 880 881 882\n",
            " 883 884 885 886 887 888 889 890 891 892 893 894 895 896 897 898 899 900\n",
            " 901 902 903 904 905 906 907 908 909 910 911 912 913 914 915 916 917 918\n",
            " 919 920 921 922 923 924 925 926 927 928 929 930 931 932 933 934 935 936\n",
            " 937 938 939 940 941 942 943 944 945 946 947 948 949 950 951 952 953 954\n",
            " 955 956 957 958 959 960 961 962 963 964 965 966 967 968 969 970 971 972\n",
            " 973 974 975 976 977 978 979 980 981 982 983 984 985 986 987 988 989 990\n",
            " 991 992 993 994 995 996 997 998 999]\n"
          ]
        }
      ]
    },
    {
      "cell_type": "code",
      "source": [
        "# 46. Create 2D Array of Specified Format\n",
        "arr = np.array([[1, 2], [3, 4]])\n",
        "print(\"2D array:\\n\", arr)\n",
        "\n"
      ],
      "metadata": {
        "colab": {
          "base_uri": "https://localhost:8080/"
        },
        "id": "5GlafWdllp47",
        "outputId": "afa14fd2-9dc3-46b5-927b-030d70f48f59"
      },
      "execution_count": 100,
      "outputs": [
        {
          "output_type": "stream",
          "name": "stdout",
          "text": [
            "2D array:\n",
            " [[1 2]\n",
            " [3 4]]\n"
          ]
        }
      ]
    },
    {
      "cell_type": "code",
      "source": [
        "# 47. Create Array of Random Uniform [0,1]\n",
        "rand_uniform = np.random.rand(40)\n",
        "print(\"Random uniform values:\", rand_uniform)\n"
      ],
      "metadata": {
        "colab": {
          "base_uri": "https://localhost:8080/"
        },
        "id": "-bqXG1zxlp8m",
        "outputId": "4734cfef-96f9-4019-c9ff-2cdfecf23ddd"
      },
      "execution_count": 101,
      "outputs": [
        {
          "output_type": "stream",
          "name": "stdout",
          "text": [
            "Random uniform values: [0.09680004 0.08671939 0.64650644 0.04564987 0.53825382 0.19341945\n",
            " 0.71083993 0.82977244 0.72678588 0.09744858 0.98051204 0.0792786\n",
            " 0.55643954 0.92996729 0.79855688 0.73341776 0.94966525 0.05261024\n",
            " 0.2482432  0.02744089 0.15957271 0.3314923  0.53079783 0.34970249\n",
            " 0.03899314 0.81639837 0.30891666 0.48992394 0.9979937  0.21464059\n",
            " 0.17605435 0.92920107 0.21953603 0.25684858 0.30641759 0.71634937\n",
            " 0.30960088 0.3542616  0.43127475 0.96804907]\n"
          ]
        }
      ]
    },
    {
      "cell_type": "code",
      "source": [
        "\n",
        "# 48. Random Normal Distribution 2D Array\n",
        "rand_normal_2d = np.random.normal(200, 7, (8, 5))\n",
        "print(\"Normal dist array (8x5):\\n\", rand_normal_2d)\n"
      ],
      "metadata": {
        "colab": {
          "base_uri": "https://localhost:8080/"
        },
        "id": "ght9OHc7lqAY",
        "outputId": "5e9cf772-c02c-407b-8d46-6af056b0dd93"
      },
      "execution_count": 102,
      "outputs": [
        {
          "output_type": "stream",
          "name": "stdout",
          "text": [
            "Normal dist array (8x5):\n",
            " [[200.29824721 194.18025626 209.70031235 195.77228767 185.44991931]\n",
            " [206.48101137 191.52814826 199.96750529 210.12302729 199.64730942]\n",
            " [213.85153144 195.7682693  202.45152755 198.0399324  196.11534505]\n",
            " [206.85603168 198.59866727 196.05718442 196.567511   201.81876437]\n",
            " [206.72696285 195.47653063 191.39575736 206.1736373  213.33095528]\n",
            " [199.92640487 189.02606693 190.73290899 207.51962638 199.32750207]\n",
            " [208.32566145 204.55887478 208.57386117 208.98073405 206.92175217]\n",
            " [195.28612161 208.85544565 205.89216471 206.25554666 191.98722381]]\n"
          ]
        }
      ]
    },
    {
      "cell_type": "code",
      "source": [
        "\n",
        "# 49. Random Sampling with/without Replacement\n",
        "arr = np.arange(10)\n",
        "sample_with = np.random.choice(arr, 5, replace=True)\n",
        "sample_without = np.random.choice(arr, 5, replace=False)\n",
        "print(\"Sample with replacement:\", sample_with)\n",
        "print(\"Sample without replacement:\", sample_without)\n"
      ],
      "metadata": {
        "colab": {
          "base_uri": "https://localhost:8080/"
        },
        "id": "QUS0yzCNlqM5",
        "outputId": "67829991-19bf-4b35-b02c-96c3dfad57e7"
      },
      "execution_count": 103,
      "outputs": [
        {
          "output_type": "stream",
          "name": "stdout",
          "text": [
            "Sample with replacement: [6 9 6 2 4]\n",
            "Sample without replacement: [7 6 3 2 4]\n"
          ]
        }
      ]
    },
    {
      "cell_type": "code",
      "source": [
        "\n",
        "# 50. Swap Rows in 4x4 Random Array\n",
        "arr = np.random.rand(4, 4)\n",
        "swapped = arr[[3,1,2,0], :]\n",
        "print(\"Original:\\n\", arr)\n",
        "print(\"Swapped rows (1st and last):\\n\", swapped)"
      ],
      "metadata": {
        "colab": {
          "base_uri": "https://localhost:8080/"
        },
        "id": "LeVILmwWl3b6",
        "outputId": "9a31bf99-c8c3-4034-e75a-f3f9cf9ee5fb"
      },
      "execution_count": 104,
      "outputs": [
        {
          "output_type": "stream",
          "name": "stdout",
          "text": [
            "Original:\n",
            " [[0.59597467 0.46623727 0.83845591 0.79860466]\n",
            " [0.08468143 0.35437039 0.97595079 0.94094581]\n",
            " [0.73949583 0.82225485 0.49976259 0.80462146]\n",
            " [0.13516882 0.85505648 0.01145952 0.74473007]]\n",
            "Swapped rows (1st and last):\n",
            " [[0.13516882 0.85505648 0.01145952 0.74473007]\n",
            " [0.08468143 0.35437039 0.97595079 0.94094581]\n",
            " [0.73949583 0.82225485 0.49976259 0.80462146]\n",
            " [0.59597467 0.46623727 0.83845591 0.79860466]]\n"
          ]
        }
      ]
    },
    {
      "cell_type": "markdown",
      "source": [
        "## How to sort dataframe by index, How to sort dataframe by specific column"
      ],
      "metadata": {
        "id": "-exQ6g4P9qFf"
      }
    },
    {
      "cell_type": "code",
      "source": [
        "#How to sort dataframe by index\n",
        "\n",
        "import pandas as pd\n",
        "df = pd.DataFrame(['d', 'v', 'r', 's', 'm'], index=[4, 2, 5, 1, 3], columns=['A'])\n",
        "df.sort_index(inplace=True)\n",
        "print(df.to_string())"
      ],
      "metadata": {
        "colab": {
          "base_uri": "https://localhost:8080/"
        },
        "id": "MAWhoxUl9exw",
        "outputId": "9229d2c9-ccf5-4b55-a4ae-088b38ceb956"
      },
      "execution_count": 105,
      "outputs": [
        {
          "output_type": "stream",
          "name": "stdout",
          "text": [
            "   A\n",
            "1  s\n",
            "2  v\n",
            "3  m\n",
            "4  d\n",
            "5  r\n"
          ]
        }
      ]
    },
    {
      "cell_type": "code",
      "source": [
        "# How to sort dataframe by specific column\n",
        "import pandas as pd\n",
        "\n",
        "data = {'Name': ['Ravi', 'Anushka', 'Prajjwal', 'Kareena'],\n",
        "        'Age': [24, 19, 22, 25],\n",
        "        'Score': [85, 92, 78, 88]}\n",
        "df1 = pd.DataFrame(data)\n",
        "\n",
        "df2 = df1.sort_values(by='Age')\n",
        "print(df2)"
      ],
      "metadata": {
        "colab": {
          "base_uri": "https://localhost:8080/"
        },
        "id": "vlUuJsYd9fBH",
        "outputId": "1a299c3d-0050-4bcc-a8ec-0241c25166cb"
      },
      "execution_count": 107,
      "outputs": [
        {
          "output_type": "stream",
          "name": "stdout",
          "text": [
            "       Name  Age  Score\n",
            "1   Anushka   19     92\n",
            "2  Prajjwal   22     78\n",
            "0      Ravi   24     85\n",
            "3   Kareena   25     88\n"
          ]
        }
      ]
    }
  ]
}