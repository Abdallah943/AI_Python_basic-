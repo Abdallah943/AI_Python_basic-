{
  "nbformat": 4,
  "nbformat_minor": 0,
  "metadata": {
    "colab": {
      "provenance": [],
      "include_colab_link": true
    },
    "kernelspec": {
      "name": "python3",
      "display_name": "Python 3"
    },
    "language_info": {
      "name": "python"
    }
  },
  "cells": [
    {
      "cell_type": "markdown",
      "metadata": {
        "id": "view-in-github",
        "colab_type": "text"
      },
      "source": [
        "<a href=\"https://colab.research.google.com/github/Abdallah943/AI_Python_basic-/blob/main/Python_Basics_task2.ipynb\" target=\"_parent\"><img src=\"https://colab.research.google.com/assets/colab-badge.svg\" alt=\"Open In Colab\"/></a>"
      ]
    },
    {
      "cell_type": "markdown",
      "source": [
        "\n",
        "# **WAP to enter a number from user and print its absolute value.**"
      ],
      "metadata": {
        "id": "MnWAiH2o0zSa"
      }
    },
    {
      "cell_type": "code",
      "source": [
        "num = float(input(\"Enter a number: \"))\n",
        "\n",
        "if num < 0:\n",
        "  print(\"Absolute value:\", num*-1)\n",
        "else:\n",
        "  print(\"The number is already an absolute value:\", num)"
      ],
      "metadata": {
        "id": "l3oLMLbk02Pj",
        "outputId": "19d2b8a6-2dab-4eb4-85ef-4dd9a35385f5",
        "colab": {
          "base_uri": "https://localhost:8080/"
        }
      },
      "execution_count": null,
      "outputs": [
        {
          "output_type": "stream",
          "name": "stdout",
          "text": [
            "Enter a number: 65\n",
            "The number is already an absolute value.\n"
          ]
        }
      ]
    },
    {
      "cell_type": "markdown",
      "source": [
        "# **WAP to enter a year from user and check if it is leap year or not.**"
      ],
      "metadata": {
        "id": "pOnjNwNx03Tr"
      }
    },
    {
      "cell_type": "code",
      "source": [
        "year = int(input(\"Enter a year: \"))\n",
        "\n",
        "if year % 4 == 0:\n",
        "    if year % 100 == 0:\n",
        "        if year % 400 == 0:\n",
        "            print(f\"{year} is a leap year\")\n",
        "        else:\n",
        "            print(f\"{year} is not a leap year\")\n",
        "    else:\n",
        "        print(f\"{year} is a leap year\")\n",
        "else:\n",
        "    print(f\"{year} is not a leap year\")"
      ],
      "metadata": {
        "id": "4PEtUTm51H6x",
        "outputId": "e801168f-889b-4b2c-ea02-d0c37eda237c",
        "colab": {
          "base_uri": "https://localhost:8080/"
        }
      },
      "execution_count": null,
      "outputs": [
        {
          "output_type": "stream",
          "name": "stdout",
          "text": [
            "Enter a year: 2030\n",
            "2030 is not a leap year\n"
          ]
        }
      ]
    },
    {
      "cell_type": "markdown",
      "source": [
        "# **WAP to enter the age of 3 person and print oldest and yougest among them.**"
      ],
      "metadata": {
        "id": "sn-NADUn1VGn"
      }
    },
    {
      "cell_type": "code",
      "source": [
        "\n",
        "ages = []\n",
        "\n",
        "for i in range(3):\n",
        "    age = int(input(f\"Enter age of person {i+1}: \"))\n",
        "    ages.append(age)\n",
        "\n",
        "oldest = ages[0]\n",
        "youngest = ages[0]\n",
        "\n",
        "for age in ages:\n",
        "    if age > oldest:\n",
        "        oldest = age\n",
        "    if age < youngest:\n",
        "        youngest = age\n",
        "\n",
        "print(f\"Oldest age: {oldest}\")\n",
        "print(f\"Youngest age: {youngest}\")"
      ],
      "metadata": {
        "id": "uNGWS1AT1cYP",
        "outputId": "e480e84a-6806-4cff-d48e-e0007513d2f7",
        "colab": {
          "base_uri": "https://localhost:8080/"
        }
      },
      "execution_count": null,
      "outputs": [
        {
          "output_type": "stream",
          "name": "stdout",
          "text": [
            "Enter age of person 1: 25\n",
            "Enter age of person 2: 64\n",
            "Enter age of person 3: 94\n",
            "Oldest age: 94\n",
            "Youngest age: 25\n"
          ]
        }
      ]
    },
    {
      "cell_type": "markdown",
      "source": [
        "# **Write a program that asks the user to enter a series of numbers. The program should ask for numbers until the user enters a negative number. Once the user enters a negative number, the program should stop and print the sum of all the positive numbers entered**\n",
        "# **Example**\n",
        "# **Enter a number: 5**\n",
        "# **Enter a number: 8**\n",
        "# **Enter a number: 12**\n",
        "# **Enter a number: -2**\n",
        "# **The sum of the positive numbers is 25.**"
      ],
      "metadata": {
        "id": "XFRRNGVj1dEw"
      }
    },
    {
      "cell_type": "code",
      "source": [
        "total = 0\n",
        "current_num = 0\n",
        "\n",
        "while current_num >= 0:\n",
        "    num = float(input(\"Enter a number: \"))\n",
        "\n",
        "    if num < 0:\n",
        "        current_num = num\n",
        "    else:\n",
        "        if num > 0:\n",
        "            total += num\n",
        "        current_num = num\n",
        "\n",
        "print(\"Sum of positive numbers:\", total)"
      ],
      "metadata": {
        "id": "ijp9SzHu2A3p",
        "outputId": "9a8460c1-3072-4cdd-c4eb-149521c95f59",
        "colab": {
          "base_uri": "https://localhost:8080/"
        }
      },
      "execution_count": null,
      "outputs": [
        {
          "output_type": "stream",
          "name": "stdout",
          "text": [
            "Enter a number: 1\n",
            "Enter a number: 2\n",
            "Enter a number: 2\n",
            "Enter a number: 8\n",
            "Enter a number: 8\n",
            "Enter a number: -8\n",
            "Sum of positive numbers: 21.0\n"
          ]
        }
      ]
    },
    {
      "cell_type": "markdown",
      "source": [
        "# **Write a program that asks the user to enter their name and age. The program should check if the user's age is greater than or equal to 18. If it is, the program should print a message saying they are eligible to vote. Otherwise, the program should print a message saying they are not eligible to vote due to being underage.**"
      ],
      "metadata": {
        "id": "oODCHUj62DxA"
      }
    },
    {
      "cell_type": "code",
      "source": [
        "\n",
        "name = input(\"Enter your name: \")\n",
        "age = int(input(\"Enter your age: \"))\n",
        "\n",
        "if age >= 18:\n",
        "    print(f\"Hello {name}, you are eligible to vote.\")\n",
        "else:\n",
        "    print(f\"Sorry {name}, you are not eligible to vote due to being underage.\")"
      ],
      "metadata": {
        "id": "Svls1cLA2JVA",
        "outputId": "04b86d23-1ca1-472c-d8c4-960ce5d97bda",
        "colab": {
          "base_uri": "https://localhost:8080/"
        }
      },
      "execution_count": null,
      "outputs": [
        {
          "output_type": "stream",
          "name": "stdout",
          "text": [
            "Enter your name: a\n",
            "Enter your age: 48\n",
            "Hello a, you are eligible to vote.\n"
          ]
        }
      ]
    },
    {
      "cell_type": "markdown",
      "source": [
        "# **Write a Python Program to Find the Factorial of a Number**"
      ],
      "metadata": {
        "id": "2y5o5SqL3nvL"
      }
    },
    {
      "cell_type": "code",
      "source": [
        "num = int(input(\"Enter a number: \"))\n",
        "\n",
        "if num < 0:\n",
        "    print(\"Factorial doesn't exist for negative numbers\")\n",
        "else:\n",
        "    fact = 1\n",
        "\n",
        "    for i in range(2, num + 1):\n",
        "        fact *= i\n",
        "    print(f\"Factorial of {num} is {fact}\")"
      ],
      "metadata": {
        "id": "Q_v3ns1D3tgy",
        "outputId": "57e16959-091a-4f37-8998-9134c407ee04",
        "colab": {
          "base_uri": "https://localhost:8080/"
        }
      },
      "execution_count": null,
      "outputs": [
        {
          "output_type": "stream",
          "name": "stdout",
          "text": [
            "Enter a number: 5\n",
            "Factorial of 5 is 120\n"
          ]
        }
      ]
    }
  ]
}